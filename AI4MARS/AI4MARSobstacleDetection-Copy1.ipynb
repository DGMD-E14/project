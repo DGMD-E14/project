{
 "cells": [
  {
   "cell_type": "markdown",
   "metadata": {},
   "source": [
    "### Import Required Libraries"
   ]
  },
  {
   "cell_type": "code",
   "execution_count": null,
   "metadata": {},
   "outputs": [],
   "source": [
    "import os\n",
    "import cv2\n",
    "import numpy as np\n",
    "import matplotlib.pyplot as plt\n",
    "\n",
    "!pip install tensorflow\n",
    "import tensorflow as tf\n",
    "from tensorflow.keras.utils import Sequence\n",
    "\n",
    "# Define Dataset Paths and Classes\n",
    "dataset_path = '../AI4MARS/msl/'  # Update this to your dataset location\n",
    "images_path = os.path.join(dataset_path, 'images', 'edr')  # Raw Mars images\n",
    "labels_path = os.path.join(dataset_path, 'labels', 'train')  # Crowdsourced training labels\n",
    "\n",
    "# Define terrain classes from dataset info\n",
    "class_colors = {\n",
    "    0: (0, 0, 0),       # Soil\n",
    "    1: (255, 255, 255), # Bedrock\n",
    "    2: (128, 128, 128), # Sand\n",
    "    3: (255, 0, 0),     # Big Rock\n",
    "    255: (0, 0, 0)      # NULL\n",
    "}\n",
    "class_names = {\n",
    "    0: \"Soil\",\n",
    "    1: \"Bedrock\",\n",
    "    2: \"Sand\",\n",
    "    3: \"Big Rock\",\n",
    "    255: \"Unlabeled\"\n",
    "}\n"
   ]
  },
  {
   "cell_type": "markdown",
   "metadata": {
    "id": "7F7hf1Jq1Z9L"
   },
   "source": [
    "### Data Load"
   ]
  },
  {
   "cell_type": "code",
   "execution_count": null,
   "metadata": {
    "ExecuteTime": {
     "end_time": "2024-12-15T21:29:01.957761Z",
     "start_time": "2024-12-15T20:55:49.990529Z"
    },
    "colab": {
     "base_uri": "https://localhost:8080/"
    },
    "id": "bXWCI_mQ1IK4",
    "outputId": "ac86c3b1-06fe-4da8-d92d-37b4b0c5d5d2"
   },
   "outputs": [],
   "source": [
    "def load_data(images_path, labels_path):\n",
    "    \"\"\"\n",
    "    Load image and label paths, ensuring matching basenames.\n",
    "    \"\"\"\n",
    "    image_files = sorted([f for f in os.listdir(images_path) if f.lower().endswith(('.jpg', '.png'))])\n",
    "    label_files = sorted([f for f in os.listdir(labels_path) if f.lower().endswith('.png')])\n",
    "\n",
    "    # Match basenames\n",
    "    image_basenames = {os.path.splitext(f)[0] for f in image_files}\n",
    "    label_basenames = {os.path.splitext(f)[0] for f in label_files}\n",
    "    matching_basenames = image_basenames & label_basenames\n",
    "\n",
    "    image_files = [f for f in image_files if os.path.splitext(f)[0] in matching_basenames]\n",
    "    label_files = [f for f in label_files if os.path.splitext(f)[0] in matching_basenames]\n",
    "\n",
    "    print(f\"Loaded {len(image_files)} matching image-label pairs.\")\n",
    "    return image_files, label_files\n",
    "\n",
    "def preprocess_image(image):\n",
    "    \"\"\"\n",
    "    Preprocess the input image (e.g., resize, normalize).\n",
    "    \"\"\"\n",
    "    image_resized = cv2.resize(image, (512, 512))  # Resize to a standard size\n",
    "    image_normalized = image_resized / 255.0  # Normalize pixel values\n",
    "    return image_normalized\n",
    "\n",
    "def preprocess_label(label):\n",
    "    \"\"\"\n",
    "    Preprocess the label (e.g., resize, map classes).\n",
    "    \"\"\"\n",
    "    label_resized = cv2.resize(label, (512, 512), interpolation=cv2.INTER_NEAREST)\n",
    "    return label_resized\n",
    "\n",
    "def map_labels(label):\n",
    "    \"\"\"\n",
    "    Map RGB label values to class IDs.\n",
    "    \"\"\"\n",
    "    label_mapped = np.zeros(label.shape[:2], dtype=np.uint8)  # Initialize empty mask\n",
    "\n",
    "    # Map RGB values to class IDs\n",
    "    for class_id, color in class_colors.items():\n",
    "        mask = np.all(label == color, axis=-1)  # Check where all RGB values match\n",
    "        label_mapped[mask] = class_id\n",
    "\n",
    "    return label_mapped"
   ]
  },
  {
   "cell_type": "markdown",
   "metadata": {
    "id": "vQl10cGB1bxT"
   },
   "source": [
    "### Visualization"
   ]
  },
  {
   "cell_type": "code",
   "execution_count": null,
   "metadata": {
    "ExecuteTime": {
     "end_time": "2024-12-15T21:29:01.973092Z",
     "start_time": "2024-12-15T21:29:01.962135Z"
    },
    "colab": {
     "base_uri": "https://localhost:8080/",
     "height": 428
    },
    "id": "EIL_GSmH1Rua",
    "outputId": "5728c005-eef4-4041-c706-d4b5cd0ccc35"
   },
   "outputs": [],
   "source": [
    "def visualize_terrain(image, label):\n",
    "    \"\"\"\n",
    "    Visualize the original image, segmentation mask, and blended overlay.\n",
    "    \"\"\"\n",
    "    # Create an overlay with terrain colors\n",
    "    overlay = np.zeros_like(image, dtype=np.uint8)\n",
    "    for class_id, color in class_colors.items():\n",
    "        overlay[label == class_id] = color\n",
    "\n",
    "    # Blend overlay with the original image\n",
    "    blended = cv2.addWeighted(image, 0.7, overlay, 0.3, 0)\n",
    "\n",
    "    # Plot results\n",
    "    plt.figure(figsize=(12, 6))\n",
    "    plt.subplot(1, 3, 1)\n",
    "    plt.imshow(cv2.cvtColor(image, cv2.COLOR_BGR2RGB))\n",
    "    plt.title(\"Original Image\")\n",
    "    plt.axis(\"off\")\n",
    "\n",
    "    plt.subplot(1, 3, 2)\n",
    "    plt.imshow(label, cmap=\"tab10\")\n",
    "    plt.title(\"Segmentation Mask\")\n",
    "    plt.axis(\"off\")\n",
    "\n",
    "    plt.subplot(1, 3, 3)\n",
    "    plt.imshow(cv2.cvtColor(blended, cv2.COLOR_BGR2RGB))\n",
    "    plt.title(\"Blended Overlay\")\n",
    "    plt.axis(\"off\")\n",
    "\n",
    "    plt.tight_layout()\n",
    "    plt.show()"
   ]
  },
  {
   "cell_type": "markdown",
   "metadata": {
    "id": "5v-Ktocs1gKk"
   },
   "source": [
    "### Obstacle Detection"
   ]
  },
  {
   "cell_type": "code",
   "execution_count": null,
   "metadata": {
    "ExecuteTime": {
     "end_time": "2024-12-15T21:29:02.067451Z",
     "start_time": "2024-12-15T21:29:01.976757Z"
    },
    "colab": {
     "base_uri": "https://localhost:8080/",
     "height": 411
    },
    "id": "da5kUPKU1XFD",
    "outputId": "13e87b3c-0986-42ae-c772-29e57e5fa9f1"
   },
   "outputs": [],
   "source": [
    "def detect_obstacles(image, label, obstacle_classes, min_area=20):\n",
    "    \"\"\"\n",
    "    Detect and highlight obstacles in the image based on the label mask.\n",
    "    \"\"\"\n",
    "    # Ensure label is mapped to class IDs\n",
    "    print(f\"Mapped label shape: {label.shape}\")\n",
    "    print(f\"Unique mapped label values: {np.unique(label)}\")\n",
    "\n",
    "    # Create obstacle mask\n",
    "    obstacle_mask = np.isin(label, obstacle_classes).astype(np.uint8)\n",
    "\n",
    "    # Debug: Check obstacle mask\n",
    "    if np.count_nonzero(obstacle_mask) == 0:\n",
    "        print(\"Obstacle mask is empty. Skipping detection.\")\n",
    "        return\n",
    "    plt.imshow(obstacle_mask, cmap=\"gray\")\n",
    "    plt.title(\"Obstacle Mask\")\n",
    "    plt.axis(\"off\")\n",
    "    plt.show()\n",
    "\n",
    "    # Smooth the mask to reduce noise\n",
    "    blurred_mask = cv2.GaussianBlur(obstacle_mask, (5, 5), 0)\n",
    "\n",
    "    # Find contours\n",
    "    contours, _ = cv2.findContours(blurred_mask, cv2.RETR_EXTERNAL, cv2.CHAIN_APPROX_SIMPLE)\n",
    "\n",
    "    # Draw bounding boxes on the original image\n",
    "    result_image = image.copy()\n",
    "    for cnt in contours:\n",
    "        area = cv2.contourArea(cnt)\n",
    "        if area > min_area:  # Filter small regions\n",
    "            x, y, w, h = cv2.boundingRect(cnt)\n",
    "            print(f\"Bounding Box: x={x}, y={y}, w={w}, h={h}, area={area}\")\n",
    "            cv2.rectangle(result_image, (x, y), (x + w, y + h), (255, 0, 0), 2)\n",
    "\n",
    "    # Show final result\n",
    "    plt.figure(figsize=(8, 8))\n",
    "    plt.imshow(cv2.cvtColor(result_image, cv2.COLOR_BGR2RGB))\n",
    "    plt.title(\"Detected Obstacles with Bounding Boxes\")\n",
    "    plt.axis(\"off\")\n",
    "    plt.show()"
   ]
  },
  {
   "cell_type": "markdown",
   "metadata": {
    "id": "zDFFZ7z81isi"
   },
   "source": [
    "### Limit Processing for Debugging"
   ]
  },
  {
   "cell_type": "code",
   "execution_count": null,
   "metadata": {
    "ExecuteTime": {
     "end_time": "2024-12-15T21:29:02.071576Z",
     "start_time": "2024-12-15T21:29:02.068636Z"
    },
    "colab": {
     "base_uri": "https://localhost:8080/",
     "height": 452
    },
    "id": "cwbORAIU1lt-",
    "outputId": "368382bd-6e6a-4270-aa81-9fcb3b8650cf"
   },
   "outputs": [],
   "source": [
    "def main_process(images_path, labels_path, max_files=10):\n",
    "    image_files, label_files = load_data(images_path, labels_path)\n",
    "\n",
    "    for i, (image_file, label_file) in enumerate(zip(image_files, label_files)):\n",
    "        # Load and map label\n",
    "        # Load image and label\n",
    "        image = cv2.imread(os.path.join(images_path, image_file))\n",
    "        label = cv2.imread(os.path.join(labels_path, label_file), cv2.IMREAD_COLOR)  # Load in RGB\n",
    "        label = cv2.cvtColor(label, cv2.COLOR_BGR2RGB)\n",
    "    \n",
    "        # Map labels to class IDs\n",
    "        label_mapped = map_labels(label)\n",
    "        print(f\"Unique values in mapped label: {np.unique(label_mapped)}\")\n",
    "\n",
    "        if image is None or label is None:\n",
    "            print(f\"Error loading {image_file} or {label_file}. Skipping...\")\n",
    "            continue\n",
    "\n",
    "        # Preprocess image and label\n",
    "        label_mapped = map_labels(label)\n",
    "        image_preprocessed = preprocess_image(image)\n",
    "\n",
    "        # Visualize and detect obstacles\n",
    "        visualize_terrain(image, label_mapped)\n",
    "        detect_obstacles(image, label_mapped, obstacle_classes=[0, 1, 2, 3])"
   ]
  },
  {
   "cell_type": "markdown",
   "metadata": {
    "id": "OrLpwqKQ1syM"
   },
   "source": [
    "### Model Training"
   ]
  },
  {
   "cell_type": "code",
   "execution_count": null,
   "metadata": {
    "ExecuteTime": {
     "end_time": "2024-12-15T21:29:02.074494Z",
     "start_time": "2024-12-15T21:29:02.072273Z"
    },
    "colab": {
     "base_uri": "https://localhost:8080/"
    },
    "id": "LcGm25WP1ope",
    "outputId": "70769e8a-90dc-49b5-eef6-a3af6b4248ed"
   },
   "outputs": [],
   "source": [
    "\n",
    "class MarsDataGenerator(Sequence):\n",
    "    def __init__(self, images_list, labels_list, batch_size=8):\n",
    "        self.images = images_list\n",
    "        self.labels = labels_list\n",
    "        self.batch_size = batch_size\n",
    "\n",
    "    def __len__(self):\n",
    "        return len(self.images) // self.batch_size\n",
    "\n",
    "    def __getitem__(self, idx):\n",
    "        batch_images = self.images[idx * self.batch_size:(idx + 1) * self.batch_size]\n",
    "        batch_labels = self.labels[idx * self.batch_size:(idx + 1) * self.batch_size]\n",
    "\n",
    "        X, Y = [], []\n",
    "        for img_path, lbl_path in zip(batch_images, batch_labels):\n",
    "            image = preprocess_image(cv2.imread(img_path))\n",
    "            label = map_labels(cv2.imread(lbl_path, cv2.IMREAD_COLOR))\n",
    "            X.append(image)\n",
    "            Y.append(label)\n",
    "\n",
    "        return np.array(X), np.array(Y)"
   ]
  },
  {
   "cell_type": "markdown",
   "metadata": {
    "id": "4Pi4UQ9c1wCM"
   },
   "source": [
    "### Process Dataset"
   ]
  },
  {
   "cell_type": "code",
   "execution_count": null,
   "metadata": {},
   "outputs": [],
   "source": [
    "# Execute the Code\n",
    "if __name__ == \"__main__\":\n",
    "    main_process(images_path, labels_path, max_files=100)"
   ]
  },
  {
   "cell_type": "code",
   "execution_count": null,
   "metadata": {},
   "outputs": [],
   "source": []
  }
 ],
 "metadata": {
  "colab": {
   "provenance": []
  },
  "kernelspec": {
   "display_name": "Python 3 (ipykernel)",
   "language": "python",
   "name": "python3"
  },
  "language_info": {
   "codemirror_mode": {
    "name": "ipython",
    "version": 3
   },
   "file_extension": ".py",
   "mimetype": "text/x-python",
   "name": "python",
   "nbconvert_exporter": "python",
   "pygments_lexer": "ipython3",
   "version": "3.12.3"
  }
 },
 "nbformat": 4,
 "nbformat_minor": 4
}
